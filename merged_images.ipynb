{
 "cells": [
  {
   "cell_type": "code",
   "execution_count": 1,
   "metadata": {},
   "outputs": [
    {
     "name": "stderr",
     "output_type": "stream",
     "text": [
      "/tmp/ipykernel_2147837/3914813728.py:9: TqdmWarning: IProgress not found. Please update jupyter and ipywidgets. See https://ipywidgets.readthedocs.io/en/stable/user_install.html\n",
      "  from tqdm.autonotebook import tqdm\n"
     ]
    }
   ],
   "source": [
    "import numpy as np\n",
    "import time\n",
    "from Model import SVM\n",
    "#from DataLoader import load_data, train_valid_split\n",
    "import ctypes\n",
    "import torch\n",
    "import pytorch_lightning as pl\n",
    "import torch.utils.data as data_utils\n",
    "from tqdm.autonotebook import tqdm\n",
    "from sklearn.metrics import accuracy_score\n",
    "from sklearn.model_selection import train_test_split\n",
    "import scipy.io\n",
    "import matplotlib.pyplot as plt\n",
    "from sklearn import svm\n",
    "from sklearn.model_selection import cross_val_score\n",
    "from sklearn.metrics import accuracy_score\n",
    "import random\n",
    "import seaborn as sns\n",
    "from sklearn.model_selection import cross_val_score\n",
    "from sklearn.metrics import accuracy_score\n",
    "import numpy as np\n",
    "from sklearn.svm import SVC\n",
    "from sklearn.metrics.pairwise import polynomial_kernel\n",
    "from sklearn.metrics import accuracy_score\n",
    "from scipy import ndimage\n",
    "from sklearn.neighbors import KNeighborsClassifier\n",
    "from sklearn.metrics import pairwise_distances\n",
    "import pytorch_lightning as pl\n",
    "import torch\n",
    "from torchvision.models import resnet18\n",
    "from torch import nn\n",
    "from sklearn.model_selection import StratifiedKFold\n"
   ]
  },
  {
   "cell_type": "code",
   "execution_count": 2,
   "metadata": {},
   "outputs": [
    {
     "data": {
      "text/plain": [
       "((180, 8, 201, 201), (180,))"
      ]
     },
     "execution_count": 2,
     "metadata": {},
     "output_type": "execute_result"
    }
   ],
   "source": [
    "\n",
    "## Load data\n",
    "mat = scipy.io.loadmat('/home/grads/s/sant1/Desktop/cybermanufacturing/Dataset/Thermal_data_tensor.mat')\n",
    "thermal_data = np.array(mat['Thermal_data_tensor'], dtype=np.int16)\n",
    "\n",
    "ground_truth = np.load('/home/grads/s/sant1/Desktop/cybermanufacturing/Dataset/ground_truth.npy')\n",
    "ground_truth = np.array(ground_truth, dtype=np.float16)\n",
    "labels_gt = np.where(ground_truth > 1, 1, 0)\n",
    "thermal_data.shape, labels_gt.shape"
   ]
  },
  {
   "cell_type": "code",
   "execution_count": 3,
   "metadata": {},
   "outputs": [],
   "source": [
    "def result_record(file, train_acc, valid_acc,scores,test_acc=0):\n",
    "    file.write('Training: \\n')\n",
    "    file.write('accuracy: {:.3f}% \\n'.format(train_acc * 100))\n",
    "    file.write('---------------------------------------------\\n')\n",
    "    file.write('Validation: \\n')\n",
    "    file.write('accuracy: {:.3f}% \\n'.format(valid_acc * 100))\n",
    "    file.write('---------------------------------------------\\n')\n",
    "    file.write('\\n')\n",
    "    file.write('cross validation: \\n')\n",
    "    file.write('accuracy: {:.3f}% \\n'.format(np.mean(scores) * 100))\n",
    "    file.write('---------------------------------------------\\n')\n",
    "    if test_acc != 0:\n",
    "        file.write('Testing: \\n')\n",
    "        file.write('accuracy: {:.3f}% \\n'.format(test_acc * 100))\n",
    "        file.write('---------------------------------------------\\n')\n",
    "    # file.write('The total number of support vectors: \\n')\n",
    "    # file.write(str(np.sum(svclassifier.n_support_)) + '\\n')\n",
    "    file.write('\\n')"
   ]
  },
  {
   "cell_type": "code",
   "execution_count": 4,
   "metadata": {},
   "outputs": [
    {
     "name": "stdout",
     "output_type": "stream",
     "text": [
      "114 66\n"
     ]
    },
    {
     "data": {
      "text/plain": [
       "(132, 132)"
      ]
     },
     "execution_count": 4,
     "metadata": {},
     "output_type": "execute_result"
    }
   ],
   "source": [
    "true_samples_indices=[index for index in range(len(labels_gt)) if labels_gt[index]==1]\n",
    "false_samples_indices=[index for index in range(len(labels_gt)) if labels_gt[index]==0]\n",
    "print(len(true_samples_indices), len(false_samples_indices))\n",
    "min_samples = min(len(true_samples_indices), len(false_samples_indices))\n",
    "true_samples_withlabels =[(thermal_data[i], 1) for i in true_samples_indices]\n",
    "false_samples_withlabels =[(thermal_data[i], 0) for i in false_samples_indices]\n",
    "\n",
    "\n",
    "if len(true_samples_indices) > len(false_samples_indices):\n",
    "    random_true_samples = random.sample(true_samples_withlabels, min_samples)\n",
    "    random_false_samples = false_samples_withlabels\n",
    "    # randomly shuffle the data\n",
    "    \n",
    "    balanced_data = random_false_samples + random_true_samples\n",
    "    np.random.shuffle(balanced_data)\n",
    "else:\n",
    "    random_true_samples = true_samples_withlabels\n",
    "    random_false_samples = random.sample(false_samples_withlabels, min_samples)\n",
    "    balanced_data = random_true_samples + random_false_samples\n",
    "    np.random.shuffle(balanced_data)\n",
    "\n",
    "X = np.array([sample[0] for sample in balanced_data]) # features\n",
    "y = np.array([sample[1] for sample in balanced_data]) # labels\n",
    "len(X), len(y)"
   ]
  },
  {
   "cell_type": "code",
   "execution_count": 5,
   "metadata": {},
   "outputs": [
    {
     "data": {
      "text/plain": [
       "<Axes: ylabel='Count'>"
      ]
     },
     "execution_count": 5,
     "metadata": {},
     "output_type": "execute_result"
    },
    {
     "data": {
      "image/png": "[encoded data removed]",
      "text/plain": [
       "<Figure size 640x480 with 1 Axes>"
      ]
     },
     "metadata": {},
     "output_type": "display_data"
    }
   ],
   "source": [
    "sns.histplot(y, kde=True, legend=True, color='red', label='Balanced Data')"
   ]
  },
  {
   "cell_type": "code",
   "execution_count": 9,
   "metadata": {},
   "outputs": [
    {
     "name": "stdout",
     "output_type": "stream",
     "text": [
      "(201, 201)\n"
     ]
    },
    {
     "data": {
      "text/plain": [
       "\" \\nplt.imshow(X_norm[0], cmap='hot', interpolation='nearest')\\n\\nfig = plt.figure(figsize=(15, 3))\\nfor i in range(8):\\n    fig.add_subplot(1, 8, i+1)\\n    plt.imshow(X[0][i], cmap='hot', interpolation='nearest')\\n    plt.axis('off') \\nplt.show()\\n\""
      ]
     },
     "execution_count": 9,
     "metadata": {},
     "output_type": "execute_result"
    }
   ],
   "source": [
    "# merge the data\n",
    "# normalize the data\n",
    "X.shape, y.shape\n",
    "X_norm = np.zeros((len(X), 201, 201))\n",
    "X_norm.shape\n",
    "\n",
    "#X_norm_flatten=X_norm.reshape(len(X), -1)\n",
    "#X_norm_flatten.shape        \n",
    "# element-wise sum of the 8 frames\n",
    "\n",
    "for i in range(len(X)):\n",
    "    X_norm[i]=sum(np.array(X[i]))/8\n",
    "    X_norm[i].shape\n",
    "# element wise summation of numpy arrays\n",
    "\n",
    "print(X_norm[0].shape)\n",
    "\"\"\"\n",
    "print(X_norm_flatten.shape)\n",
    "X_norm.shape\n",
    "\"\"\"\n",
    "\"\"\" \n",
    "plt.imshow(X_norm[0], cmap='hot', interpolation='nearest')\n",
    "\n",
    "fig = plt.figure(figsize=(15, 3))\n",
    "for i in range(8):\n",
    "    fig.add_subplot(1, 8, i+1)\n",
    "    plt.imshow(X[0][i], cmap='hot', interpolation='nearest')\n",
    "    plt.axis('off') \n",
    "plt.show()\n",
    "\"\"\""
   ]
  },
  {
   "cell_type": "code",
   "execution_count": 24,
   "metadata": {},
   "outputs": [],
   "source": [
    "def svm_classifer1(deg,X_svm,y):\n",
    "    skf = StratifiedKFold(n_splits=3)\n",
    "    skf.get_n_splits(X_svm, y)\n",
    "    for train_index, test_index in skf.split(X_svm, y):\n",
    "        x_train, x_valid = X_svm[train_index], X_svm[test_index]\n",
    "        y_train, y_valid = y[train_index], y[test_index]\n",
    "        x_train_norm = x_train/np.max(X_svm)\n",
    "        x_valid_norm = x_valid/np.max(X_svm)\n",
    "        \n",
    "        # flatten the data to be used in the SVM\n",
    "        x_train_fin = x_train_norm.reshape(len(x_train_norm),-1)\n",
    "        x_valid_fin = x_valid_norm.reshape(len(x_valid_norm),-1)\n",
    "        #print(x_train_fin.shape, x_valid_fin.shape)\n",
    "        \n",
    "        # flatten the complete data to be used in the SVM\n",
    "        X_data = X_svm/np.max(X_svm)\n",
    "        X_data =X_data.reshape(X_data.shape[0],-1)\n",
    "        \n",
    "        time_start = time.time()\n",
    "        model = svm.SVC(gamma='auto', kernel='poly', degree=deg, coef0=0, C=10)\n",
    "        \n",
    "\n",
    "      \n",
    "        model.fit(x_train_fin, y_train)\n",
    "        y_predict = model.predict(x_train_fin)\n",
    "        train_acc = accuracy_score(y_train, y_predict)\n",
    "        y_eval=model.predict(x_valid_fin)\n",
    "        eval_acc = accuracy_score(y_valid, y_eval)\n",
    "        scores=cross_val_score(model, X_data, y, cv=5)\n",
    "        print('Train accuracy: ', train_acc)\n",
    "        print('Validation accuracy: ', eval_acc)\n",
    "        # cross validation with 5 folds on the complete data\n",
    "        print('Cross-validation scores: ', scores)\n",
    "        \n",
    "        time_stop = time.time()\n",
    "        with open('SVM Polynomial Kernel_proportional train and test on Merged images.txt', 'a') as f:\n",
    "            f.write('SVM with polynomial kernel (degree={:.3f}) \\n'.format(deg))\n",
    "            f.write('Execution Time: {:.3f}s \\n'.format(time_stop - time_start))\n",
    "        \n",
    "            result_record(f, train_acc, eval_acc, scores,0 )"
   ]
  },
  {
   "cell_type": "code",
   "execution_count": 25,
   "metadata": {},
   "outputs": [
    {
     "name": "stdout",
     "output_type": "stream",
     "text": [
      "Train accuracy:  0.5\n",
      "Validation accuracy:  0.5\n",
      "Cross-validation scores:  [0.48148148 0.48148148 0.5        0.5        0.5       ]\n",
      "Train accuracy:  0.5\n",
      "Validation accuracy:  0.5\n",
      "Cross-validation scores:  [0.48148148 0.48148148 0.5        0.5        0.5       ]\n",
      "Train accuracy:  0.5\n",
      "Validation accuracy:  0.5\n",
      "Cross-validation scores:  [0.48148148 0.48148148 0.5        0.5        0.5       ]\n",
      "Train accuracy:  0.625\n",
      "Validation accuracy:  0.45454545454545453\n",
      "Cross-validation scores:  [0.37037037 0.48148148 0.5        0.53846154 0.53846154]\n",
      "Train accuracy:  0.5340909090909091\n",
      "Validation accuracy:  0.45454545454545453\n",
      "Cross-validation scores:  [0.37037037 0.48148148 0.5        0.53846154 0.53846154]\n",
      "Train accuracy:  0.5568181818181818\n",
      "Validation accuracy:  0.5227272727272727\n",
      "Cross-validation scores:  [0.37037037 0.48148148 0.5        0.53846154 0.53846154]\n",
      "Train accuracy:  0.6136363636363636\n",
      "Validation accuracy:  0.4090909090909091\n",
      "Cross-validation scores:  [0.48148148 0.48148148 0.57692308 0.53846154 0.46153846]\n",
      "Train accuracy:  0.5568181818181818\n",
      "Validation accuracy:  0.45454545454545453\n",
      "Cross-validation scores:  [0.48148148 0.48148148 0.57692308 0.53846154 0.46153846]\n",
      "Train accuracy:  0.48863636363636365\n",
      "Validation accuracy:  0.5454545454545454\n",
      "Cross-validation scores:  [0.48148148 0.48148148 0.57692308 0.53846154 0.46153846]\n",
      "Train accuracy:  0.5568181818181818\n",
      "Validation accuracy:  0.4772727272727273\n",
      "Cross-validation scores:  [0.48148148 0.48148148 0.5        0.46153846 0.42307692]\n",
      "Train accuracy:  0.5568181818181818\n",
      "Validation accuracy:  0.38636363636363635\n",
      "Cross-validation scores:  [0.48148148 0.48148148 0.5        0.46153846 0.42307692]\n",
      "Train accuracy:  0.5340909090909091\n",
      "Validation accuracy:  0.5681818181818182\n",
      "Cross-validation scores:  [0.48148148 0.48148148 0.5        0.46153846 0.42307692]\n",
      "Train accuracy:  0.5454545454545454\n",
      "Validation accuracy:  0.5454545454545454\n",
      "Cross-validation scores:  [0.48148148 0.48148148 0.5        0.38461538 0.42307692]\n",
      "Train accuracy:  0.5340909090909091\n",
      "Validation accuracy:  0.4772727272727273\n",
      "Cross-validation scores:  [0.48148148 0.48148148 0.5        0.38461538 0.42307692]\n",
      "Train accuracy:  0.5795454545454546\n",
      "Validation accuracy:  0.4318181818181818\n",
      "Cross-validation scores:  [0.48148148 0.48148148 0.5        0.38461538 0.42307692]\n",
      "Train accuracy:  0.5\n",
      "Validation accuracy:  0.5227272727272727\n",
      "Cross-validation scores:  [0.48148148 0.48148148 0.5        0.46153846 0.38461538]\n",
      "Train accuracy:  0.5113636363636364\n",
      "Validation accuracy:  0.4772727272727273\n",
      "Cross-validation scores:  [0.48148148 0.48148148 0.5        0.46153846 0.38461538]\n",
      "Train accuracy:  0.5795454545454546\n",
      "Validation accuracy:  0.45454545454545453\n",
      "Cross-validation scores:  [0.48148148 0.48148148 0.5        0.46153846 0.38461538]\n",
      "Train accuracy:  0.5113636363636364\n",
      "Validation accuracy:  0.5227272727272727\n",
      "Cross-validation scores:  [0.48148148 0.48148148 0.5        0.42307692 0.46153846]\n",
      "Train accuracy:  0.5340909090909091\n",
      "Validation accuracy:  0.4772727272727273\n",
      "Cross-validation scores:  [0.48148148 0.48148148 0.5        0.42307692 0.46153846]\n",
      "Train accuracy:  0.5454545454545454\n",
      "Validation accuracy:  0.45454545454545453\n",
      "Cross-validation scores:  [0.48148148 0.48148148 0.5        0.42307692 0.46153846]\n",
      "Train accuracy:  0.5113636363636364\n",
      "Validation accuracy:  0.5\n",
      "Cross-validation scores:  [0.48148148 0.48148148 0.5        0.42307692 0.46153846]\n",
      "Train accuracy:  0.5113636363636364\n",
      "Validation accuracy:  0.4772727272727273\n",
      "Cross-validation scores:  [0.48148148 0.48148148 0.5        0.42307692 0.46153846]\n",
      "Train accuracy:  0.5227272727272727\n",
      "Validation accuracy:  0.4772727272727273\n",
      "Cross-validation scores:  [0.48148148 0.48148148 0.5        0.42307692 0.46153846]\n",
      "Train accuracy:  0.5227272727272727\n",
      "Validation accuracy:  0.5\n",
      "Cross-validation scores:  [0.48148148 0.48148148 0.5        0.42307692 0.5       ]\n",
      "Train accuracy:  0.5454545454545454\n",
      "Validation accuracy:  0.4090909090909091\n",
      "Cross-validation scores:  [0.48148148 0.48148148 0.5        0.42307692 0.5       ]\n",
      "Train accuracy:  0.5227272727272727\n",
      "Validation accuracy:  0.4772727272727273\n",
      "Cross-validation scores:  [0.48148148 0.48148148 0.5        0.42307692 0.5       ]\n",
      "Train accuracy:  0.5227272727272727\n",
      "Validation accuracy:  0.5\n",
      "Cross-validation scores:  [0.48148148 0.48148148 0.5        0.42307692 0.5       ]\n",
      "Train accuracy:  0.5340909090909091\n",
      "Validation accuracy:  0.5\n",
      "Cross-validation scores:  [0.48148148 0.48148148 0.5        0.42307692 0.5       ]\n",
      "Train accuracy:  0.5227272727272727\n",
      "Validation accuracy:  0.5\n",
      "Cross-validation scores:  [0.48148148 0.48148148 0.5        0.42307692 0.5       ]\n"
     ]
    }
   ],
   "source": [
    "for deg in range(10):\n",
    "    svm_classifer1(deg,X_norm,y)"
   ]
  },
  {
   "cell_type": "code",
   "execution_count": null,
   "metadata": {},
   "outputs": [],
   "source": [
    "class TISVM(object):\n",
    "    def __init__(self, degree):\n",
    "        self.degree = degree\n",
    "\n",
    "    def ti_kernel(self, x, y):\n",
    "        \"\"\"\n",
    "        Args:\n",
    "            x: arrays of shape (n_samples1, n_features)\n",
    "            y: arrays of shape (n_samples2, n_features)\n",
    "        Returns:\n",
    "            kernel_final: maximum kernel matrix of shape (n_samples1, n_samples2)\n",
    "        \"\"\"\n",
    "        y_reshape = y.reshape((-1, 201, 201))\n",
    "\n",
    "        # choose the maximum kernel for each pair of sample\n",
    "        kernel_final = np.zeros((x.shape[0], y.shape[0]))\n",
    "        print(kernel_final.shape)\n",
    "        exit()\n",
    "        for k in range(-5, 6):\n",
    "            for l in range(-5, 6):\n",
    "                # shift\n",
    "                T_kl = np.roll(y_reshape, (k, l), axis=(2, 3))\n",
    "                T_kl_reshape = T_kl.reshape((T_kl.shape[0], -1))\n",
    "\n",
    "                kernel_medium = polynomial_kernel(x, T_kl_reshape, self.degree)\n",
    "                kernel_final = np.maximum(kernel_medium, kernel_final)\n",
    "\n",
    "        return kernel_final\n",
    "\n",
    "    def train(self, x, y):\n",
    "        svclassifier = SVC(gamma='auto', kernel=self.ti_kernel)\n",
    "        svclassifier.fit(x, y)\n",
    "        y_pred = svclassifier.predict(x)\n",
    "        train_acc = accuracy_score(y, y_pred)\n",
    "        return svclassifier, train_acc\n",
    "\n",
    "    def evaluate(self, x, y, svclassifier):\n",
    "        y_pred = svclassifier.predict(x)\n",
    "        eval_acc = accuracy_score(y, y_pred)\n",
    "        return eval_acc\n"
   ]
  },
  {
   "cell_type": "code",
   "execution_count": null,
   "metadata": {},
   "outputs": [],
   "source": [
    "def tisvm_classifer1(deg,X_ti,y):\n",
    "    skf = StratifiedKFold(n_splits=3)\n",
    "    skf.get_n_splits(X_ti, y)\n",
    "    for train_index, test_index in skf.split(X_ti, y):\n",
    "        x_train, x_valid = X_ti[train_index], X_ti[test_index]\n",
    "        y_train, y_valid = y[train_index], y[test_index]\n",
    "        x_train_norm = x_train/np.max(X_ti)\n",
    "        x_valid_norm = x_valid/np.max(X_ti)\n",
    "        \n",
    "        x_train_fin = x_train_norm.reshape(len(x_train_norm),-1)\n",
    "        x_valid_fin = x_valid_norm.reshape(len(x_valid_norm),-1)\n",
    "        x_train_fin.shape, x_valid_fin.shape\n",
    "        \n",
    "        #print(x_train_fin.shape, x_valid_fin.shape)\n",
    "        \n",
    "        X_data = X_ti/np.max(X_ti)\n",
    "        X_data =X_data.reshape(X_data.shape[0],-1)\n",
    "        time1 = time.time()\n",
    "        model = TISVM(degree=deg)\n",
    "        svclassifier, train_acc = model.train(x_train_fin, y_train)\n",
    "        eval_acc = model.evaluate(x_valid_fin, y_valid, svclassifier)\n",
    "        cross_val_scores = cross_val_score(svclassifier, X_data, y, cv=4)\n",
    "        #test_acc = model.evaluate(X_test, y[-1-test_samples:-1], svclassifier)\n",
    "        time2 = time.time()\n",
    "        with open('proportional train and test sets TISVM.txt', 'a') as f:\n",
    "            f.write('proportional train and test sets (degree={:.3f}) \\n'.format(deg) )\n",
    "            f.write('Execution Time: {:.3f}s \\n'.format(time2 - time1))\n",
    "            result_record(f, train_acc, eval_acc,cross_val_scores, 0)\n",
    "\n",
    "for deg in [2,3, 4, 5, 6, 7, 8, 9, 10]:\n",
    "    tisvm_classifer1(deg,X_norm,y)"
   ]
  },
  {
   "cell_type": "code",
   "execution_count": null,
   "metadata": {},
   "outputs": [],
   "source": []
  }
 ],
 "metadata": {
  "kernelspec": {
   "display_name": "cyberman",
   "language": "python",
   "name": "python3"
  },
  "language_info": {
   "codemirror_mode": {
    "name": "ipython",
    "version": 3
   },
   "file_extension": ".py",
   "mimetype": "text/x-python",
   "name": "python",
   "nbconvert_exporter": "python",
   "pygments_lexer": "ipython3",
   "version": "3.10.12"
  }
 },
 "nbformat": 4,
 "nbformat_minor": 2
}
